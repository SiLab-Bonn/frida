{
 "cells": [
  {
   "cell_type": "code",
   "execution_count": null,
   "metadata": {},
   "outputs": [],
   "source": [
    "weights = [2**10-2**7,\n",
    "           2**9,\n",
    "           2**8+2**5,\n",
    "           2**7+2**5,\n",
    "           2**6+2**4,\n",
    "           2**5+2**4,\n",
    "           2**4+2**3,\n",
    "           2**3+2**3,\n",
    "           2**2+2**2,\n",
    "           2**1+2**2,\n",
    "           2**0+2**1,\n",
    "                2**1,\n",
    "                2**1,\n",
    "                2**0,\n",
    "                2**0]\n",
    "\n"
   ]
  },
  {
   "cell_type": "markdown",
   "metadata": {},
   "source": [
    "This is a test, with some markdown\n",
    "\n",
    "$$ x+y $$"
   ]
  },
  {
   "cell_type": "code",
   "execution_count": null,
   "metadata": {},
   "outputs": [],
   "source": [
    "print(weights)"
   ]
  }
 ],
 "metadata": {
  "kernelspec": {
   "display_name": ".venv",
   "language": "python",
   "name": "python3"
  },
  "language_info": {
   "codemirror_mode": {
    "name": "ipython",
    "version": 3
   },
   "file_extension": ".py",
   "mimetype": "text/x-python",
   "name": "python",
   "nbconvert_exporter": "python",
   "pygments_lexer": "ipython3",
   "version": "3.9.21"
  }
 },
 "nbformat": 4,
 "nbformat_minor": 2
}
